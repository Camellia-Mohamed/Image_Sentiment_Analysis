{
 "cells": [
  {
   "cell_type": "code",
   "execution_count": 19,
   "id": "76937c0023bed689",
   "metadata": {
    "ExecuteTime": {
     "end_time": "2025-05-18T21:27:17.321133Z",
     "start_time": "2025-05-18T21:27:17.308931Z"
    }
   },
   "outputs": [],
   "source": [
    "import pandas as pd\n",
    "import re\n",
    "from nltk import word_tokenize\n",
    "from sklearn.feature_extraction.text import CountVectorizer\n",
    "from sklearn.preprocessing import LabelEncoder\n",
    "from sklearn.model_selection import train_test_split\n",
    "from sklearn.metrics import classification_report, accuracy_score\n",
    "from sklearn.linear_model import LogisticRegression\n",
    "import joblib\n",
    "import nltk\n"
   ]
  },
  {
   "cell_type": "code",
   "id": "9ec1ce0a7d540f70",
   "metadata": {
    "ExecuteTime": {
     "end_time": "2025-05-18T22:09:49.358192Z",
     "start_time": "2025-05-18T22:09:49.064254Z"
    }
   },
   "source": [
    "# Load the dataset\n",
    "train_data = pd.read_csv('dataset/twitter_training.csv', names=['id','info','sentiment','text'])\n",
    "val_date= pd.read_csv('dataset/twitter_validation.csv', names=['id','info','sentiment','text'])\n",
    "train_data\n"
   ],
   "outputs": [
    {
     "data": {
      "text/plain": [
       "         id         info sentiment  \\\n",
       "0      2401  Borderlands  Positive   \n",
       "1      2401  Borderlands  Positive   \n",
       "2      2401  Borderlands  Positive   \n",
       "3      2401  Borderlands  Positive   \n",
       "4      2401  Borderlands  Positive   \n",
       "...     ...          ...       ...   \n",
       "74677  9200       Nvidia  Positive   \n",
       "74678  9200       Nvidia  Positive   \n",
       "74679  9200       Nvidia  Positive   \n",
       "74680  9200       Nvidia  Positive   \n",
       "74681  9200       Nvidia  Positive   \n",
       "\n",
       "                                                    text  \n",
       "0      im getting on borderlands and i will murder yo...  \n",
       "1      I am coming to the borders and I will kill you...  \n",
       "2      im getting on borderlands and i will kill you ...  \n",
       "3      im coming on borderlands and i will murder you...  \n",
       "4      im getting on borderlands 2 and i will murder ...  \n",
       "...                                                  ...  \n",
       "74677  Just realized that the Windows partition of my...  \n",
       "74678  Just realized that my Mac window partition is ...  \n",
       "74679  Just realized the windows partition of my Mac ...  \n",
       "74680  Just realized between the windows partition of...  \n",
       "74681  Just like the windows partition of my Mac is l...  \n",
       "\n",
       "[74682 rows x 4 columns]"
      ],
      "text/html": [
       "<div>\n",
       "<style scoped>\n",
       "    .dataframe tbody tr th:only-of-type {\n",
       "        vertical-align: middle;\n",
       "    }\n",
       "\n",
       "    .dataframe tbody tr th {\n",
       "        vertical-align: top;\n",
       "    }\n",
       "\n",
       "    .dataframe thead th {\n",
       "        text-align: right;\n",
       "    }\n",
       "</style>\n",
       "<table border=\"1\" class=\"dataframe\">\n",
       "  <thead>\n",
       "    <tr style=\"text-align: right;\">\n",
       "      <th></th>\n",
       "      <th>id</th>\n",
       "      <th>info</th>\n",
       "      <th>sentiment</th>\n",
       "      <th>text</th>\n",
       "    </tr>\n",
       "  </thead>\n",
       "  <tbody>\n",
       "    <tr>\n",
       "      <th>0</th>\n",
       "      <td>2401</td>\n",
       "      <td>Borderlands</td>\n",
       "      <td>Positive</td>\n",
       "      <td>im getting on borderlands and i will murder yo...</td>\n",
       "    </tr>\n",
       "    <tr>\n",
       "      <th>1</th>\n",
       "      <td>2401</td>\n",
       "      <td>Borderlands</td>\n",
       "      <td>Positive</td>\n",
       "      <td>I am coming to the borders and I will kill you...</td>\n",
       "    </tr>\n",
       "    <tr>\n",
       "      <th>2</th>\n",
       "      <td>2401</td>\n",
       "      <td>Borderlands</td>\n",
       "      <td>Positive</td>\n",
       "      <td>im getting on borderlands and i will kill you ...</td>\n",
       "    </tr>\n",
       "    <tr>\n",
       "      <th>3</th>\n",
       "      <td>2401</td>\n",
       "      <td>Borderlands</td>\n",
       "      <td>Positive</td>\n",
       "      <td>im coming on borderlands and i will murder you...</td>\n",
       "    </tr>\n",
       "    <tr>\n",
       "      <th>4</th>\n",
       "      <td>2401</td>\n",
       "      <td>Borderlands</td>\n",
       "      <td>Positive</td>\n",
       "      <td>im getting on borderlands 2 and i will murder ...</td>\n",
       "    </tr>\n",
       "    <tr>\n",
       "      <th>...</th>\n",
       "      <td>...</td>\n",
       "      <td>...</td>\n",
       "      <td>...</td>\n",
       "      <td>...</td>\n",
       "    </tr>\n",
       "    <tr>\n",
       "      <th>74677</th>\n",
       "      <td>9200</td>\n",
       "      <td>Nvidia</td>\n",
       "      <td>Positive</td>\n",
       "      <td>Just realized that the Windows partition of my...</td>\n",
       "    </tr>\n",
       "    <tr>\n",
       "      <th>74678</th>\n",
       "      <td>9200</td>\n",
       "      <td>Nvidia</td>\n",
       "      <td>Positive</td>\n",
       "      <td>Just realized that my Mac window partition is ...</td>\n",
       "    </tr>\n",
       "    <tr>\n",
       "      <th>74679</th>\n",
       "      <td>9200</td>\n",
       "      <td>Nvidia</td>\n",
       "      <td>Positive</td>\n",
       "      <td>Just realized the windows partition of my Mac ...</td>\n",
       "    </tr>\n",
       "    <tr>\n",
       "      <th>74680</th>\n",
       "      <td>9200</td>\n",
       "      <td>Nvidia</td>\n",
       "      <td>Positive</td>\n",
       "      <td>Just realized between the windows partition of...</td>\n",
       "    </tr>\n",
       "    <tr>\n",
       "      <th>74681</th>\n",
       "      <td>9200</td>\n",
       "      <td>Nvidia</td>\n",
       "      <td>Positive</td>\n",
       "      <td>Just like the windows partition of my Mac is l...</td>\n",
       "    </tr>\n",
       "  </tbody>\n",
       "</table>\n",
       "<p>74682 rows × 4 columns</p>\n",
       "</div>"
      ]
     },
     "execution_count": 26,
     "metadata": {},
     "output_type": "execute_result"
    }
   ],
   "execution_count": 26
  },
  {
   "metadata": {
    "ExecuteTime": {
     "end_time": "2025-05-18T22:10:20.696132Z",
     "start_time": "2025-05-18T22:10:20.683861Z"
    }
   },
   "cell_type": "code",
   "source": "train_data.sentiment.value_counts()",
   "id": "b8bddebfec837fd1",
   "outputs": [
    {
     "data": {
      "text/plain": [
       "sentiment\n",
       "Negative      22542\n",
       "Positive      20832\n",
       "Neutral       18318\n",
       "Irrelevant    12990\n",
       "Name: count, dtype: int64"
      ]
     },
     "execution_count": 27,
     "metadata": {},
     "output_type": "execute_result"
    }
   ],
   "execution_count": 27
  },
  {
   "metadata": {
    "ExecuteTime": {
     "end_time": "2025-05-18T22:22:09.033527Z",
     "start_time": "2025-05-18T22:22:09.007822Z"
    }
   },
   "cell_type": "code",
   "source": "train_data[train_data['sentiment']=='Irrelevant'].head(-5)",
   "id": "7e17f452bc11821c",
   "outputs": [
    {
     "data": {
      "text/plain": [
       "         id         info   sentiment  \\\n",
       "102    2418  Borderlands  Irrelevant   \n",
       "103    2418  Borderlands  Irrelevant   \n",
       "104    2418  Borderlands  Irrelevant   \n",
       "105    2418  Borderlands  Irrelevant   \n",
       "106    2418  Borderlands  Irrelevant   \n",
       "...     ...          ...         ...   \n",
       "73994  9077       Nvidia  Irrelevant   \n",
       "73995  9077       Nvidia  Irrelevant   \n",
       "73996  9077       Nvidia  Irrelevant   \n",
       "73997  9077       Nvidia  Irrelevant   \n",
       "74034  9085       Nvidia  Irrelevant   \n",
       "\n",
       "                                                    text  \n",
       "102    Appreciate the (sonic) concepts / praxis Valen...  \n",
       "103    Appreciate the (sound) concepts / practices th...  \n",
       "104    Evaluate the (sound) concepts / concepts of Va...  \n",
       "105    Appreciate the (sonic) concepts / praxis Valen...  \n",
       "106    Appreciate by the ( sonic ) electronic concept...  \n",
       "...                                                  ...  \n",
       "73994  Oh ah, I worked with these guys. The second co...  \n",
       "73995  Oh, yeah, I used to work with these guys. Thir...  \n",
       "73996  Oh, yeah, although I always used to work mostl...  \n",
       "73997  Oh, yeah, I used to work under these guys. Tot...  \n",
       "74034  Good for them. This is all based on earnings f...  \n",
       "\n",
       "[12985 rows x 4 columns]"
      ],
      "text/html": [
       "<div>\n",
       "<style scoped>\n",
       "    .dataframe tbody tr th:only-of-type {\n",
       "        vertical-align: middle;\n",
       "    }\n",
       "\n",
       "    .dataframe tbody tr th {\n",
       "        vertical-align: top;\n",
       "    }\n",
       "\n",
       "    .dataframe thead th {\n",
       "        text-align: right;\n",
       "    }\n",
       "</style>\n",
       "<table border=\"1\" class=\"dataframe\">\n",
       "  <thead>\n",
       "    <tr style=\"text-align: right;\">\n",
       "      <th></th>\n",
       "      <th>id</th>\n",
       "      <th>info</th>\n",
       "      <th>sentiment</th>\n",
       "      <th>text</th>\n",
       "    </tr>\n",
       "  </thead>\n",
       "  <tbody>\n",
       "    <tr>\n",
       "      <th>102</th>\n",
       "      <td>2418</td>\n",
       "      <td>Borderlands</td>\n",
       "      <td>Irrelevant</td>\n",
       "      <td>Appreciate the (sonic) concepts / praxis Valen...</td>\n",
       "    </tr>\n",
       "    <tr>\n",
       "      <th>103</th>\n",
       "      <td>2418</td>\n",
       "      <td>Borderlands</td>\n",
       "      <td>Irrelevant</td>\n",
       "      <td>Appreciate the (sound) concepts / practices th...</td>\n",
       "    </tr>\n",
       "    <tr>\n",
       "      <th>104</th>\n",
       "      <td>2418</td>\n",
       "      <td>Borderlands</td>\n",
       "      <td>Irrelevant</td>\n",
       "      <td>Evaluate the (sound) concepts / concepts of Va...</td>\n",
       "    </tr>\n",
       "    <tr>\n",
       "      <th>105</th>\n",
       "      <td>2418</td>\n",
       "      <td>Borderlands</td>\n",
       "      <td>Irrelevant</td>\n",
       "      <td>Appreciate the (sonic) concepts / praxis Valen...</td>\n",
       "    </tr>\n",
       "    <tr>\n",
       "      <th>106</th>\n",
       "      <td>2418</td>\n",
       "      <td>Borderlands</td>\n",
       "      <td>Irrelevant</td>\n",
       "      <td>Appreciate by the ( sonic ) electronic concept...</td>\n",
       "    </tr>\n",
       "    <tr>\n",
       "      <th>...</th>\n",
       "      <td>...</td>\n",
       "      <td>...</td>\n",
       "      <td>...</td>\n",
       "      <td>...</td>\n",
       "    </tr>\n",
       "    <tr>\n",
       "      <th>73994</th>\n",
       "      <td>9077</td>\n",
       "      <td>Nvidia</td>\n",
       "      <td>Irrelevant</td>\n",
       "      <td>Oh ah, I worked with these guys. The second co...</td>\n",
       "    </tr>\n",
       "    <tr>\n",
       "      <th>73995</th>\n",
       "      <td>9077</td>\n",
       "      <td>Nvidia</td>\n",
       "      <td>Irrelevant</td>\n",
       "      <td>Oh, yeah, I used to work with these guys. Thir...</td>\n",
       "    </tr>\n",
       "    <tr>\n",
       "      <th>73996</th>\n",
       "      <td>9077</td>\n",
       "      <td>Nvidia</td>\n",
       "      <td>Irrelevant</td>\n",
       "      <td>Oh, yeah, although I always used to work mostl...</td>\n",
       "    </tr>\n",
       "    <tr>\n",
       "      <th>73997</th>\n",
       "      <td>9077</td>\n",
       "      <td>Nvidia</td>\n",
       "      <td>Irrelevant</td>\n",
       "      <td>Oh, yeah, I used to work under these guys. Tot...</td>\n",
       "    </tr>\n",
       "    <tr>\n",
       "      <th>74034</th>\n",
       "      <td>9085</td>\n",
       "      <td>Nvidia</td>\n",
       "      <td>Irrelevant</td>\n",
       "      <td>Good for them. This is all based on earnings f...</td>\n",
       "    </tr>\n",
       "  </tbody>\n",
       "</table>\n",
       "<p>12985 rows × 4 columns</p>\n",
       "</div>"
      ]
     },
     "execution_count": 32,
     "metadata": {},
     "output_type": "execute_result"
    }
   ],
   "execution_count": 32
  },
  {
   "cell_type": "code",
   "execution_count": 6,
   "id": "3a9e7d228f2fc24c",
   "metadata": {
    "ExecuteTime": {
     "end_time": "2025-05-18T21:23:38.539565Z",
     "start_time": "2025-05-18T21:23:38.518256Z"
    }
   },
   "outputs": [
    {
     "data": {
      "text/plain": [
       "id             0\n",
       "info           0\n",
       "sentiment      0\n",
       "text         686\n",
       "dtype: int64"
      ]
     },
     "execution_count": 6,
     "metadata": {},
     "output_type": "execute_result"
    }
   ],
   "source": [
    "train_data.isnull().sum()"
   ]
  },
  {
   "cell_type": "code",
   "execution_count": 7,
   "id": "49b3e9962d558234",
   "metadata": {
    "ExecuteTime": {
     "end_time": "2025-05-18T21:23:40.490284Z",
     "start_time": "2025-05-18T21:23:40.466602Z"
    }
   },
   "outputs": [],
   "source": [
    "# drop null values\n",
    "train_data.dropna(inplace= True)\n"
   ]
  },
  {
   "cell_type": "code",
   "execution_count": 8,
   "id": "38c4e91aa757d809",
   "metadata": {
    "ExecuteTime": {
     "end_time": "2025-05-18T21:23:42.875583Z",
     "start_time": "2025-05-18T21:23:42.818434Z"
    }
   },
   "outputs": [
    {
     "data": {
      "text/plain": [
       "2340"
      ]
     },
     "execution_count": 8,
     "metadata": {},
     "output_type": "execute_result"
    }
   ],
   "source": [
    "# Check for duplicates\n",
    "train_data.duplicated().sum()"
   ]
  },
  {
   "cell_type": "code",
   "execution_count": 9,
   "id": "9bc37bb0448fc3a",
   "metadata": {
    "ExecuteTime": {
     "end_time": "2025-05-18T21:23:45.381114Z",
     "start_time": "2025-05-18T21:23:45.339164Z"
    }
   },
   "outputs": [],
   "source": [
    "train_data.drop_duplicates(inplace= True)"
   ]
  },
  {
   "cell_type": "code",
   "execution_count": 10,
   "id": "14a38bf9cf574dd4",
   "metadata": {
    "ExecuteTime": {
     "end_time": "2025-05-18T21:23:49.435504Z",
     "start_time": "2025-05-18T21:23:49.422992Z"
    }
   },
   "outputs": [],
   "source": [
    "def preprocess_text(text):\n",
    "    # Convert to string and lowercase\n",
    "    text = str(text).lower()\n",
    "\n",
    "    # Remove URLs\n",
    "    text = re.sub('[^A-Za-z0-9 ]+', ' ', text)\n",
    "    return text"
   ]
  },
  {
   "cell_type": "code",
   "execution_count": 11,
   "id": "e9c4cb11dbd824e9",
   "metadata": {
    "ExecuteTime": {
     "end_time": "2025-05-18T21:23:54.315275Z",
     "start_time": "2025-05-18T21:23:54.084175Z"
    }
   },
   "outputs": [],
   "source": [
    "# Preprocess the text\n",
    "train_data['pre_text'] = train_data['text'].apply(preprocess_text)\n",
    "val_date['pre_text'] = val_date['text'].apply(preprocess_text)"
   ]
  },
  {
   "cell_type": "code",
   "execution_count": 13,
   "id": "450f9a91d3f25657",
   "metadata": {
    "ExecuteTime": {
     "end_time": "2025-05-18T21:24:31.527576Z",
     "start_time": "2025-05-18T21:24:31.515217Z"
    }
   },
   "outputs": [],
   "source": [
    "bow_counts= CountVectorizer(\n",
    "    tokenizer= word_tokenize,\n",
    "    ngram_range=(1, 4)\n",
    ")"
   ]
  },
  {
   "cell_type": "code",
   "execution_count": 14,
   "id": "c40a64a5b1eadc3e",
   "metadata": {
    "ExecuteTime": {
     "end_time": "2025-05-18T21:24:45.742803Z",
     "start_time": "2025-05-18T21:24:45.713739Z"
    }
   },
   "outputs": [],
   "source": [
    "reviews_train, reviews_test = train_test_split(train_data, test_size=0.2, random_state=0)"
   ]
  },
  {
   "cell_type": "code",
   "execution_count": 15,
   "id": "a36a5b66161357e0",
   "metadata": {
    "ExecuteTime": {
     "end_time": "2025-05-18T21:25:27.500658Z",
     "start_time": "2025-05-18T21:25:16.602091Z"
    }
   },
   "outputs": [
    {
     "name": "stderr",
     "output_type": "stream",
     "text": [
      "E:\\AI_track\\pattern_project\\.venv\\lib\\site-packages\\sklearn\\feature_extraction\\text.py:525: UserWarning: The parameter 'token_pattern' will not be used since 'tokenizer' is not None'\n",
      "  warnings.warn(\n"
     ]
    }
   ],
   "source": [
    "X_train_bow = bow_counts.fit_transform(reviews_train['pre_text'])\n",
    "X_test_bow = bow_counts.transform(reviews_test['pre_text'])\n",
    "X_val_bow = bow_counts.transform(val_date['pre_text'])"
   ]
  },
  {
   "cell_type": "code",
   "id": "45eb4cfa",
   "metadata": {
    "ExecuteTime": {
     "end_time": "2025-05-18T22:08:57.733753Z",
     "start_time": "2025-05-18T22:08:57.689753Z"
    }
   },
   "source": "train_data[train_data['sentiment']=='positive'].head()",
   "outputs": [
    {
     "data": {
      "text/plain": [
       "Empty DataFrame\n",
       "Columns: [id, info, sentiment, text, pre_text]\n",
       "Index: []"
      ],
      "text/html": [
       "<div>\n",
       "<style scoped>\n",
       "    .dataframe tbody tr th:only-of-type {\n",
       "        vertical-align: middle;\n",
       "    }\n",
       "\n",
       "    .dataframe tbody tr th {\n",
       "        vertical-align: top;\n",
       "    }\n",
       "\n",
       "    .dataframe thead th {\n",
       "        text-align: right;\n",
       "    }\n",
       "</style>\n",
       "<table border=\"1\" class=\"dataframe\">\n",
       "  <thead>\n",
       "    <tr style=\"text-align: right;\">\n",
       "      <th></th>\n",
       "      <th>id</th>\n",
       "      <th>info</th>\n",
       "      <th>sentiment</th>\n",
       "      <th>text</th>\n",
       "      <th>pre_text</th>\n",
       "    </tr>\n",
       "  </thead>\n",
       "  <tbody>\n",
       "  </tbody>\n",
       "</table>\n",
       "</div>"
      ]
     },
     "execution_count": 25,
     "metadata": {},
     "output_type": "execute_result"
    }
   ],
   "execution_count": 25
  },
  {
   "cell_type": "code",
   "execution_count": 16,
   "id": "1113928272cb3b43",
   "metadata": {
    "ExecuteTime": {
     "end_time": "2025-05-18T21:25:39.539236Z",
     "start_time": "2025-05-18T21:25:39.526046Z"
    }
   },
   "outputs": [],
   "source": [
    "y_train_bow = reviews_train.sentiment\n",
    "y_test_bow = reviews_test.sentiment\n",
    "y_val_bow = val_date.sentiment"
   ]
  },
  {
   "cell_type": "code",
   "execution_count": 17,
   "id": "1aa422c5a24a6470",
   "metadata": {
    "ExecuteTime": {
     "end_time": "2025-05-18T21:25:44.087983Z",
     "start_time": "2025-05-18T21:25:44.066010Z"
    }
   },
   "outputs": [],
   "source": [
    "le= LabelEncoder()\n",
    "y_test_bow= le.fit_transform(y_test_bow)\n",
    "y_train_bow= le.transform(y_train_bow)\n",
    "y_val_bow= le.transform(y_val_bow)"
   ]
  },
  {
   "cell_type": "code",
   "execution_count": 21,
   "id": "1b87f0c70307cf93",
   "metadata": {
    "ExecuteTime": {
     "end_time": "2025-05-18T21:31:16.784944Z",
     "start_time": "2025-05-18T21:28:49.992906Z"
    }
   },
   "outputs": [
    {
     "data": {
      "text/html": [
       "<style>#sk-container-id-1 {color: black;}#sk-container-id-1 pre{padding: 0;}#sk-container-id-1 div.sk-toggleable {background-color: white;}#sk-container-id-1 label.sk-toggleable__label {cursor: pointer;display: block;width: 100%;margin-bottom: 0;padding: 0.3em;box-sizing: border-box;text-align: center;}#sk-container-id-1 label.sk-toggleable__label-arrow:before {content: \"▸\";float: left;margin-right: 0.25em;color: #696969;}#sk-container-id-1 label.sk-toggleable__label-arrow:hover:before {color: black;}#sk-container-id-1 div.sk-estimator:hover label.sk-toggleable__label-arrow:before {color: black;}#sk-container-id-1 div.sk-toggleable__content {max-height: 0;max-width: 0;overflow: hidden;text-align: left;background-color: #f0f8ff;}#sk-container-id-1 div.sk-toggleable__content pre {margin: 0.2em;color: black;border-radius: 0.25em;background-color: #f0f8ff;}#sk-container-id-1 input.sk-toggleable__control:checked~div.sk-toggleable__content {max-height: 200px;max-width: 100%;overflow: auto;}#sk-container-id-1 input.sk-toggleable__control:checked~label.sk-toggleable__label-arrow:before {content: \"▾\";}#sk-container-id-1 div.sk-estimator input.sk-toggleable__control:checked~label.sk-toggleable__label {background-color: #d4ebff;}#sk-container-id-1 div.sk-label input.sk-toggleable__control:checked~label.sk-toggleable__label {background-color: #d4ebff;}#sk-container-id-1 input.sk-hidden--visually {border: 0;clip: rect(1px 1px 1px 1px);clip: rect(1px, 1px, 1px, 1px);height: 1px;margin: -1px;overflow: hidden;padding: 0;position: absolute;width: 1px;}#sk-container-id-1 div.sk-estimator {font-family: monospace;background-color: #f0f8ff;border: 1px dotted black;border-radius: 0.25em;box-sizing: border-box;margin-bottom: 0.5em;}#sk-container-id-1 div.sk-estimator:hover {background-color: #d4ebff;}#sk-container-id-1 div.sk-parallel-item::after {content: \"\";width: 100%;border-bottom: 1px solid gray;flex-grow: 1;}#sk-container-id-1 div.sk-label:hover label.sk-toggleable__label {background-color: #d4ebff;}#sk-container-id-1 div.sk-serial::before {content: \"\";position: absolute;border-left: 1px solid gray;box-sizing: border-box;top: 0;bottom: 0;left: 50%;z-index: 0;}#sk-container-id-1 div.sk-serial {display: flex;flex-direction: column;align-items: center;background-color: white;padding-right: 0.2em;padding-left: 0.2em;position: relative;}#sk-container-id-1 div.sk-item {position: relative;z-index: 1;}#sk-container-id-1 div.sk-parallel {display: flex;align-items: stretch;justify-content: center;background-color: white;position: relative;}#sk-container-id-1 div.sk-item::before, #sk-container-id-1 div.sk-parallel-item::before {content: \"\";position: absolute;border-left: 1px solid gray;box-sizing: border-box;top: 0;bottom: 0;left: 50%;z-index: -1;}#sk-container-id-1 div.sk-parallel-item {display: flex;flex-direction: column;z-index: 1;position: relative;background-color: white;}#sk-container-id-1 div.sk-parallel-item:first-child::after {align-self: flex-end;width: 50%;}#sk-container-id-1 div.sk-parallel-item:last-child::after {align-self: flex-start;width: 50%;}#sk-container-id-1 div.sk-parallel-item:only-child::after {width: 0;}#sk-container-id-1 div.sk-dashed-wrapped {border: 1px dashed gray;margin: 0 0.4em 0.5em 0.4em;box-sizing: border-box;padding-bottom: 0.4em;background-color: white;}#sk-container-id-1 div.sk-label label {font-family: monospace;font-weight: bold;display: inline-block;line-height: 1.2em;}#sk-container-id-1 div.sk-label-container {text-align: center;}#sk-container-id-1 div.sk-container {/* jupyter's `normalize.less` sets `[hidden] { display: none; }` but bootstrap.min.css set `[hidden] { display: none !important; }` so we also need the `!important` here to be able to override the default hidden behavior on the sphinx rendered scikit-learn.org. See: https://github.com/scikit-learn/scikit-learn/issues/21755 */display: inline-block !important;position: relative;}#sk-container-id-1 div.sk-text-repr-fallback {display: none;}</style><div id=\"sk-container-id-1\" class=\"sk-top-container\"><div class=\"sk-text-repr-fallback\"><pre>LogisticRegression(C=0.9, max_iter=1500, solver=&#x27;liblinear&#x27;)</pre><b>In a Jupyter environment, please rerun this cell to show the HTML representation or trust the notebook. <br />On GitHub, the HTML representation is unable to render, please try loading this page with nbviewer.org.</b></div><div class=\"sk-container\" hidden><div class=\"sk-item\"><div class=\"sk-estimator sk-toggleable\"><input class=\"sk-toggleable__control sk-hidden--visually\" id=\"sk-estimator-id-1\" type=\"checkbox\" checked><label for=\"sk-estimator-id-1\" class=\"sk-toggleable__label sk-toggleable__label-arrow\">LogisticRegression</label><div class=\"sk-toggleable__content\"><pre>LogisticRegression(C=0.9, max_iter=1500, solver=&#x27;liblinear&#x27;)</pre></div></div></div></div></div>"
      ],
      "text/plain": [
       "LogisticRegression(C=0.9, max_iter=1500, solver='liblinear')"
      ]
     },
     "execution_count": 21,
     "metadata": {},
     "output_type": "execute_result"
    }
   ],
   "source": [
    "LR_clf= LogisticRegression(C=0.9, solver=\"liblinear\",max_iter=1500)\n",
    "LR_clf.fit(X_train_bow, y_train_bow)"
   ]
  },
  {
   "cell_type": "code",
   "execution_count": 22,
   "id": "31420093",
   "metadata": {
    "ExecuteTime": {
     "end_time": "2025-05-18T21:31:16.879658Z",
     "start_time": "2025-05-18T21:31:16.833058Z"
    }
   },
   "outputs": [
    {
     "name": "stdout",
     "output_type": "stream",
     "text": [
      "LogisticRegression Accuracy on Test:  91.39687412782584\n",
      "\n",
      "LogisticRegression Classification Report: \n",
      "               precision    recall  f1-score   support\n",
      "\n",
      "  Irrelevant       0.97      0.86      0.91      2535\n",
      "    Negative       0.91      0.94      0.92      4306\n",
      "     Neutral       0.94      0.90      0.92      3568\n",
      "    Positive       0.87      0.94      0.90      3923\n",
      "\n",
      "    accuracy                           0.91     14332\n",
      "   macro avg       0.92      0.91      0.91     14332\n",
      "weighted avg       0.92      0.91      0.91     14332\n",
      "\n",
      "LogisticRegression Accuracy on Validation:  98.7\n",
      "\n",
      "LogisticRegression Classification Report: \n",
      "               precision    recall  f1-score   support\n",
      "\n",
      "  Irrelevant       0.99      0.98      0.99       172\n",
      "    Negative       0.99      0.99      0.99       266\n",
      "     Neutral       0.99      0.99      0.99       285\n",
      "    Positive       0.98      0.98      0.98       277\n",
      "\n",
      "    accuracy                           0.99      1000\n",
      "   macro avg       0.99      0.99      0.99      1000\n",
      "weighted avg       0.99      0.99      0.99      1000\n",
      "\n"
     ]
    }
   ],
   "source": [
    "y_pred = LR_clf.predict(X_test_bow)\n",
    "print(\"LogisticRegression Accuracy on Test: \", accuracy_score(y_test_bow, y_pred) * 100)\n",
    "print(\"\\nLogisticRegression Classification Report: \\n\", classification_report(y_test_bow, y_pred, target_names=le.classes_))\n",
    "\n",
    "y_pred_val = LR_clf.predict(X_val_bow)\n",
    "print(\"LogisticRegression Accuracy on Validation: \", accuracy_score(y_val_bow, y_pred_val) * 100)\n",
    "print(\"\\nLogisticRegression Classification Report: \\n\", classification_report(y_val_bow, y_pred_val, target_names=le.classes_))\n"
   ]
  },
  {
   "metadata": {},
   "cell_type": "code",
   "outputs": [],
   "execution_count": null,
   "source": [
    "joblib.dump(LR_clf, 'model\\\\twitter_sentiment_model_LR.joblib')\n",
    "joblib.dump(le, 'model\\\\label_encoder_LR.joblib')\n",
    "joblib.dump(bow_counts, 'model\\\\bow.joblib')"
   ],
   "id": "34085258855f74e1"
  }
 ],
 "metadata": {
  "language_info": {
   "name": "python"
  }
 },
 "nbformat": 4,
 "nbformat_minor": 5
}
